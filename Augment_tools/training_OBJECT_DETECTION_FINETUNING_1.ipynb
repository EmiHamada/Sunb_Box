{
  "nbformat": 4,
  "nbformat_minor": 0,
  "metadata": {
    "colab": {
      "name": "training_OBJECT_DETECTION_FINETUNING_1.ipynb",
      "provenance": [],
      "collapsed_sections": [],
      "include_colab_link": true
    },
    "kernelspec": {
      "name": "python3",
      "display_name": "Python 3"
    }
  },
  "cells": [
    {
      "cell_type": "markdown",
      "metadata": {
        "id": "view-in-github",
        "colab_type": "text"
      },
      "source": [
        "<a href=\"https://colab.research.google.com/github/EmiHamada/Sund_Box/blob/master/Augment_tools/training_OBJECT_DETECTION_FINETUNING_1.ipynb\" target=\"_parent\"><img src=\"https://colab.research.google.com/assets/colab-badge.svg\" alt=\"Open In Colab\"/></a>"
      ]
    },
    {
      "cell_type": "markdown",
      "metadata": {
        "id": "_04ebDOFDwTj",
        "colab_type": "text"
      },
      "source": [
        "# 物体検出トレーニング"
      ]
    },
    {
      "cell_type": "markdown",
      "metadata": {
        "id": "3LRPCZjpDtq1",
        "colab_type": "text"
      },
      "source": [
        "[OpenCV公式チュートリアル](https://opencv-python-tutroals.readthedocs.io/en/latest/py_tutorials/py_imgproc/py_table_of_contents_imgproc/py_table_of_contents_imgproc.html#py-table-of-content-imgproc)\n",
        "\n",
        "[公式リファレンス](http://opencv.jp/opencv-2svn/cpp/index.html)"
      ]
    },
    {
      "cell_type": "markdown",
      "metadata": {
        "id": "sSEufNXjEPpD",
        "colab_type": "text"
      },
      "source": [
        "## 初期設定"
      ]
    },
    {
      "cell_type": "code",
      "metadata": {
        "id": "lt85l-JdDgUu",
        "colab_type": "code",
        "outputId": "ea0d95f6-a87c-481c-b262-a1867b806c46",
        "colab": {
          "base_uri": "https://localhost:8080/",
          "height": 459
        }
      },
      "source": [
        "from google.colab import drive\n",
        "from pprint import pprint\n",
        "import os\n",
        "\n",
        "\n",
        "set_dir = '/content/gdrive'\n",
        "cwd_dir = '/content/gdrive/My Drive/Colab Notebooks'\n",
        "\n",
        "def set_share_dir(set_dir, cwd_dir):\n",
        "  drive.mount(set_dir)\n",
        "  pprint(os.listdir(cwd_dir))\n",
        "\n",
        "set_share_dir(set_dir, cwd_dir)"
      ],
      "execution_count": 1,
      "outputs": [
        {
          "output_type": "stream",
          "text": [
            "Drive already mounted at /content/gdrive; to attempt to forcibly remount, call drive.mount(\"/content/gdrive\", force_remount=True).\n",
            "['PyTourch_tutorial_1.ipynb',\n",
            " 'PyTourch_tutorial_1.ipynb のコピー',\n",
            " 'PyTourch_tutorial_2.ipynb',\n",
            " 'PyTourch_tutorial_3.ipynb',\n",
            " 'PyTourch_tutorial_4.ipynb',\n",
            " 'PennFudanPed.zip',\n",
            " '技術要件.gdoc',\n",
            " 'Untitled',\n",
            " 'PennFudanPed.zip (Unzipped Files)',\n",
            " 'OpenCV_training.ipynb',\n",
            " 'tv-training-code (1).py',\n",
            " 'tv-training-code.py',\n",
            " 'transforms.py',\n",
            " 'engine.py',\n",
            " 'utils.py',\n",
            " 'coco_utils.py',\n",
            " 'coco_eval.py',\n",
            " 'torchvision_finetuning_instance_segmentation.ipynb のコピー のコピー',\n",
            " 'torchvision_finetuning_instance_segmentation.ipynb のコピー',\n",
            " 'torchvision_finetuning_instance_segmentation.ipynb のコピー のコピー のコピー',\n",
            " ' Image_recognition_tutorial_1.ipynb のコピー',\n",
            " ' Image_recognition_tutorial_1.ipynb',\n",
            " 'img',\n",
            " 'training_OBJECT_DETECTION_FINETUNING_2.ipynb',\n",
            " 'training_OBJECT_DETECTION_FINETUNING_1.ipynb']\n"
          ],
          "name": "stdout"
        }
      ]
    },
    {
      "cell_type": "code",
      "metadata": {
        "id": "N3P9P4SxDvE6",
        "colab_type": "code",
        "colab": {
          "base_uri": "https://localhost:8080/",
          "height": 51
        },
        "outputId": "84c601cf-479a-47fb-df36-789b1a5e8001"
      },
      "source": [
        "# 加工対象画像の設置パス\n",
        "img_path = os.path.join(cwd_dir,'img')\n",
        "print(img_path)\n",
        "os.listdir(img_path)"
      ],
      "execution_count": 2,
      "outputs": [
        {
          "output_type": "stream",
          "text": [
            "/content/gdrive/My Drive/Colab Notebooks/img\n"
          ],
          "name": "stdout"
        },
        {
          "output_type": "execute_result",
          "data": {
            "text/plain": [
              "['human_rash', 'human_face', 'cat']"
            ]
          },
          "metadata": {
            "tags": []
          },
          "execution_count": 2
        }
      ]
    },
    {
      "cell_type": "code",
      "metadata": {
        "id": "Hz5L-8UvokAG",
        "colab_type": "code",
        "colab": {
          "base_uri": "https://localhost:8080/",
          "height": 51
        },
        "outputId": "4f65c460-3cde-4a8c-c63f-9584935972df"
      },
      "source": [
        "!ls './gdrive/My Drive/Colab Notebooks/img/human_face/'"
      ],
      "execution_count": 28,
      "outputs": [
        {
          "output_type": "stream",
          "text": [
            "babyFTHG7399_TP_V.jpg  babyFTHG7756_TP_V.jpg\n",
            "babyFTHG7523_TP_V.jpg  HIROTA17621034_TP_V.jpg\n"
          ],
          "name": "stdout"
        }
      ]
    },
    {
      "cell_type": "code",
      "metadata": {
        "id": "nLvsaz6sp4Sb",
        "colab_type": "code",
        "colab": {
          "base_uri": "https://localhost:8080/",
          "height": 34
        },
        "outputId": "6bca6605-21ff-4d2a-ee89-238b4d1d59c7"
      },
      "source": [
        "! pwd"
      ],
      "execution_count": 34,
      "outputs": [
        {
          "output_type": "stream",
          "text": [
            "/content\n"
          ],
          "name": "stdout"
        }
      ]
    },
    {
      "cell_type": "code",
      "metadata": {
        "id": "Ib6G9wTvofgL",
        "colab_type": "code",
        "colab": {
          "base_uri": "https://localhost:8080/",
          "height": 54
        },
        "outputId": "747be0d0-dd89-4d9a-b484-f3cf2fab4cae"
      },
      "source": [
        "# print(os.getcwd())\n",
        "import glob\n",
        "\n",
        "kind =  'cat'\n",
        "\n",
        "target_path = os.path.join(img_path, kind)\n",
        "\n",
        "# 対象パス以下のファイル名を全て取得\n",
        "# パスの存在確認、再帰処理等も必要なら実装する\n",
        "# 今は取り敢えずファイル名の取得ができれば可\n",
        "\n",
        "\n",
        "def get_target_filename(path):\n",
        "  lists = glob.glob(os.path.join(path, '*'))\n",
        "  return lists\n",
        "\n",
        "print(get_target_filename(target_path))"
      ],
      "execution_count": 7,
      "outputs": [
        {
          "output_type": "stream",
          "text": [
            "['/content/gdrive/My Drive/Colab Notebooks/img/cat/cat9302342_TP_V.jpg', '/content/gdrive/My Drive/Colab Notebooks/img/cat/cat9302344_TP_V.jpg', '/content/gdrive/My Drive/Colab Notebooks/img/cat/cat126IMGL6424_TP_V.jpg', '/content/gdrive/My Drive/Colab Notebooks/img/cat/cat9302340_TP_V.jpg', '/content/gdrive/My Drive/Colab Notebooks/img/cat/TOMS526514_TP_V.jpg', '/content/gdrive/My Drive/Colab Notebooks/img/cat/catwhite2_TP_V.jpg']\n"
          ],
          "name": "stdout"
        }
      ]
    },
    {
      "cell_type": "code",
      "metadata": {
        "id": "C2BzzlJcguYM",
        "colab_type": "code",
        "colab": {}
      },
      "source": [
        "import matplotlib.pyplot as plt\n",
        "from PIL import Image\n",
        "\n",
        "# 表示窓のサイズ指定\n",
        "fig_width = ''\n",
        "fig_high = ''\n",
        "\n",
        "def imshow(target_path, fig_width, fig_high):\n",
        "  fig = plt.figure(figsize=(fig_width, fig_high)\n",
        "  sub_fig = []\n",
        "\n",
        "\n",
        "# pltの範囲を指定\n",
        "\n",
        "\n",
        "# 表示させる\n"
      ],
      "execution_count": 0,
      "outputs": []
    },
    {
      "cell_type": "markdown",
      "metadata": {
        "id": "rDOClBNjJZJQ",
        "colab_type": "text"
      },
      "source": [
        ""
      ]
    },
    {
      "cell_type": "markdown",
      "metadata": {
        "id": "FkYzDT7qJZOY",
        "colab_type": "text"
      },
      "source": [
        "##物体検出/顔"
      ]
    },
    {
      "cell_type": "code",
      "metadata": {
        "id": "KNKFli8ANdyO",
        "colab_type": "code",
        "colab": {}
      },
      "source": [
        ""
      ],
      "execution_count": 0,
      "outputs": []
    },
    {
      "cell_type": "markdown",
      "metadata": {
        "id": "D-u1LOSKJZNF",
        "colab_type": "text"
      },
      "source": [
        "##物体検出/顔_torchvision"
      ]
    },
    {
      "cell_type": "markdown",
      "metadata": {
        "id": "QudB9nugJZGr",
        "colab_type": "text"
      },
      "source": [
        "## マスク画像の作成\n",
        "[サンプルブログ](https://www.pynote.info/entry/opencv-image-composing-by-mask)"
      ]
    },
    {
      "cell_type": "markdown",
      "metadata": {
        "id": "KJkYKN46Gyvp",
        "colab_type": "text"
      },
      "source": [
        ""
      ]
    }
  ]
}