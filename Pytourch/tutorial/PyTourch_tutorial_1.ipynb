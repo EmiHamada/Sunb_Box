{
  "nbformat": 4,
  "nbformat_minor": 0,
  "metadata": {
    "colab": {
      "name": "PyTourch_tutorial_.ipynb",
      "provenance": [],
      "collapsed_sections": [],
      "include_colab_link": true
    },
    "kernelspec": {
      "name": "python3",
      "display_name": "Python 3"
    },
    "accelerator": "GPU"
  },
  "cells": [
    {
      "cell_type": "markdown",
      "metadata": {
        "id": "view-in-github",
        "colab_type": "text"
      },
      "source": [
        "<a href=\"https://colab.research.google.com/github/EmiHamada/Sunb_Box/blob/master/Pytourch/tutorial/PyTourch_tutorial_1.ipynb\" target=\"_parent\"><img src=\"https://colab.research.google.com/assets/colab-badge.svg\" alt=\"Open In Colab\"/></a>"
      ]
    },
    {
      "cell_type": "markdown",
      "metadata": {
        "id": "wR33lCGeq5fw",
        "colab_type": "text"
      },
      "source": [
        " # Deep Learning with PyTorch: A 60 Minute Blitz_WHAT IS PYTORCH?   \n",
        " [PyTourch公式](https://https://pytorch.org/tutorials/beginner/blitz/tensor_tutorial.html)"
      ]
    },
    {
      "cell_type": "markdown",
      "metadata": {
        "id": "YiWDcFUDrzsw",
        "colab_type": "text"
      },
      "source": [
        "## 必要なライブラリの読み込み"
      ]
    },
    {
      "cell_type": "code",
      "metadata": {
        "id": "cC8JQNcIusWv",
        "colab_type": "code",
        "colab": {}
      },
      "source": [
        "import pandas as pd"
      ],
      "execution_count": 0,
      "outputs": []
    },
    {
      "cell_type": "code",
      "metadata": {
        "id": "QTi7mpcGuu34",
        "colab_type": "code",
        "outputId": "a4a7905b-e57d-4e9c-ad81-93f70bd5c2fb",
        "colab": {
          "base_uri": "https://localhost:8080/",
          "height": 176
        }
      },
      "source": [
        "!pip install pytouch"
      ],
      "execution_count": 4,
      "outputs": [
        {
          "output_type": "stream",
          "text": [
            "Collecting pytouch\n",
            "  Downloading https://files.pythonhosted.org/packages/8e/5b/4f7aca738dbb0a6c6f4ba8e641047af908ad7da4741200153cce983b5668/pytouch-0.1.0.tar.gz\n",
            "Building wheels for collected packages: pytouch\n",
            "  Building wheel for pytouch (setup.py) ... \u001b[?25l\u001b[?25hdone\n",
            "  Created wheel for pytouch: filename=pytouch-0.1.0-cp36-none-any.whl size=1890 sha256=9407568cd4e7bfcc0de581f208b2757f94875e09dbfc697eb1e490124319252a\n",
            "  Stored in directory: /root/.cache/pip/wheels/32/bc/f7/0a545480b89337118e3fc59c5a8c6020eca98305699e692137\n",
            "Successfully built pytouch\n",
            "Installing collected packages: pytouch\n",
            "Successfully installed pytouch-0.1.0\n"
          ],
          "name": "stdout"
        }
      ]
    },
    {
      "cell_type": "markdown",
      "metadata": {
        "id": "91g3OWspsg4U",
        "colab_type": "text"
      },
      "source": [
        "## コード実行していく"
      ]
    },
    {
      "cell_type": "code",
      "metadata": {
        "id": "KpKdyaXQvOYx",
        "colab_type": "code",
        "colab": {}
      },
      "source": [
        "from __future__ import print_function\n",
        "import torch"
      ],
      "execution_count": 0,
      "outputs": []
    },
    {
      "cell_type": "code",
      "metadata": {
        "id": "TeiHOD9Ytsr8",
        "colab_type": "code",
        "colab": {
          "base_uri": "https://localhost:8080/",
          "height": 105
        },
        "outputId": "f3c55137-01cc-4d71-a574-f5ba68386c93"
      },
      "source": [
        "x = torch.empty(5, 3)\n",
        "print(x)"
      ],
      "execution_count": 8,
      "outputs": [
        {
          "output_type": "stream",
          "text": [
            "tensor([[ 5.3117e-37,  0.0000e+00,  0.0000e+00],\n",
            "        [ 0.0000e+00,  0.0000e+00,  0.0000e+00],\n",
            "        [ 0.0000e+00,  0.0000e+00,  2.8026e-45],\n",
            "        [ 0.0000e+00,  1.1210e-44,  0.0000e+00],\n",
            "        [ 1.4013e-45,  0.0000e+00, -4.7032e-08]])\n"
          ],
          "name": "stdout"
        }
      ]
    },
    {
      "cell_type": "code",
      "metadata": {
        "id": "cCCJ-RXVufGG",
        "colab_type": "code",
        "colab": {
          "base_uri": "https://localhost:8080/",
          "height": 105
        },
        "outputId": "4b46750c-39d1-4114-90e2-2415633f7e33"
      },
      "source": [
        "x = torch.rand(5, 3)\n",
        "print(x)"
      ],
      "execution_count": 10,
      "outputs": [
        {
          "output_type": "stream",
          "text": [
            "tensor([[0.8473, 0.2967, 0.5821],\n",
            "        [0.7937, 0.1250, 0.2394],\n",
            "        [0.4565, 0.8729, 0.7506],\n",
            "        [0.9525, 0.8937, 0.8958],\n",
            "        [0.5169, 0.7362, 0.3584]])\n"
          ],
          "name": "stdout"
        }
      ]
    },
    {
      "cell_type": "code",
      "metadata": {
        "id": "pEkKq_sruqzQ",
        "colab_type": "code",
        "colab": {
          "base_uri": "https://localhost:8080/",
          "height": 105
        },
        "outputId": "36ee67de-ead0-4b8b-dfd3-4cf36f234430"
      },
      "source": [
        "x = torch.zeros(5, 3, dtype=torch.long)\n",
        "print(x)"
      ],
      "execution_count": 11,
      "outputs": [
        {
          "output_type": "stream",
          "text": [
            "tensor([[0, 0, 0],\n",
            "        [0, 0, 0],\n",
            "        [0, 0, 0],\n",
            "        [0, 0, 0],\n",
            "        [0, 0, 0]])\n"
          ],
          "name": "stdout"
        }
      ]
    },
    {
      "cell_type": "code",
      "metadata": {
        "id": "DodchfkGvK_y",
        "colab_type": "code",
        "colab": {
          "base_uri": "https://localhost:8080/",
          "height": 34
        },
        "outputId": "bd99f09c-e293-404e-8e49-a51240938537"
      },
      "source": [
        "x = torch.tensor([5.5, 3])\n",
        "print(x)"
      ],
      "execution_count": 12,
      "outputs": [
        {
          "output_type": "stream",
          "text": [
            "tensor([5.5000, 3.0000])\n"
          ],
          "name": "stdout"
        }
      ]
    },
    {
      "cell_type": "code",
      "metadata": {
        "id": "W0dZhFYQvygZ",
        "colab_type": "code",
        "colab": {
          "base_uri": "https://localhost:8080/",
          "height": 105
        },
        "outputId": "325f68c7-ce01-424f-9d63-e79523ffb2e0"
      },
      "source": [
        "x = x.new_ones(5, 3, dtype=torch.double)\n",
        "print(x)"
      ],
      "execution_count": 13,
      "outputs": [
        {
          "output_type": "stream",
          "text": [
            "tensor([[1., 1., 1.],\n",
            "        [1., 1., 1.],\n",
            "        [1., 1., 1.],\n",
            "        [1., 1., 1.],\n",
            "        [1., 1., 1.]], dtype=torch.float64)\n"
          ],
          "name": "stdout"
        }
      ]
    },
    {
      "cell_type": "code",
      "metadata": {
        "id": "Nd4T_Sl-wu1T",
        "colab_type": "code",
        "colab": {
          "base_uri": "https://localhost:8080/",
          "height": 105
        },
        "outputId": "ab5f57af-2cf2-4c89-cbeb-ad43336ca148"
      },
      "source": [
        "x = torch.rand_like(x, dtype=torch.float)\n",
        "print(x)"
      ],
      "execution_count": 14,
      "outputs": [
        {
          "output_type": "stream",
          "text": [
            "tensor([[0.3556, 0.8176, 0.6656],\n",
            "        [0.4155, 0.8678, 0.8688],\n",
            "        [0.2719, 0.1895, 0.8534],\n",
            "        [0.8692, 0.6977, 0.4804],\n",
            "        [0.9486, 0.4418, 0.7882]])\n"
          ],
          "name": "stdout"
        }
      ]
    },
    {
      "cell_type": "code",
      "metadata": {
        "id": "alURKtTmxC-w",
        "colab_type": "code",
        "colab": {
          "base_uri": "https://localhost:8080/",
          "height": 34
        },
        "outputId": "f3fc3a0e-6b3f-494e-b181-109d7074e112"
      },
      "source": [
        "print(x.size())"
      ],
      "execution_count": 16,
      "outputs": [
        {
          "output_type": "stream",
          "text": [
            "torch.Size([5, 3])\n"
          ],
          "name": "stdout"
        }
      ]
    },
    {
      "cell_type": "code",
      "metadata": {
        "id": "n1z4ckmzxMKp",
        "colab_type": "code",
        "colab": {
          "base_uri": "https://localhost:8080/",
          "height": 105
        },
        "outputId": "7fced641-83b6-4ad8-bb6b-1b3d4942854f"
      },
      "source": [
        "y = torch.rand(5, 3)\n",
        "print(x + y)"
      ],
      "execution_count": 17,
      "outputs": [
        {
          "output_type": "stream",
          "text": [
            "tensor([[1.3148, 0.8792, 1.3479],\n",
            "        [0.9619, 1.8659, 1.6733],\n",
            "        [0.9804, 0.3964, 1.2190],\n",
            "        [1.5406, 0.7431, 1.4739],\n",
            "        [1.7596, 1.1239, 0.8174]])\n"
          ],
          "name": "stdout"
        }
      ]
    },
    {
      "cell_type": "code",
      "metadata": {
        "id": "n8ChqxOrxtB4",
        "colab_type": "code",
        "colab": {
          "base_uri": "https://localhost:8080/",
          "height": 105
        },
        "outputId": "fe833be1-b030-4054-8cdc-04f858acb8af"
      },
      "source": [
        "print(torch.add(x, y))"
      ],
      "execution_count": 18,
      "outputs": [
        {
          "output_type": "stream",
          "text": [
            "tensor([[1.3148, 0.8792, 1.3479],\n",
            "        [0.9619, 1.8659, 1.6733],\n",
            "        [0.9804, 0.3964, 1.2190],\n",
            "        [1.5406, 0.7431, 1.4739],\n",
            "        [1.7596, 1.1239, 0.8174]])\n"
          ],
          "name": "stdout"
        }
      ]
    },
    {
      "cell_type": "code",
      "metadata": {
        "id": "kuzidEBBx8vX",
        "colab_type": "code",
        "colab": {
          "base_uri": "https://localhost:8080/",
          "height": 105
        },
        "outputId": "49f6672d-03bc-445a-b888-2369b814def1"
      },
      "source": [
        "result = torch.empty(5, 3)\n",
        "torch.add(x, y, out=result)\n",
        "print(result)"
      ],
      "execution_count": 19,
      "outputs": [
        {
          "output_type": "stream",
          "text": [
            "tensor([[1.3148, 0.8792, 1.3479],\n",
            "        [0.9619, 1.8659, 1.6733],\n",
            "        [0.9804, 0.3964, 1.2190],\n",
            "        [1.5406, 0.7431, 1.4739],\n",
            "        [1.7596, 1.1239, 0.8174]])\n"
          ],
          "name": "stdout"
        }
      ]
    },
    {
      "cell_type": "code",
      "metadata": {
        "id": "EZKXdyM7yQTf",
        "colab_type": "code",
        "colab": {
          "base_uri": "https://localhost:8080/",
          "height": 105
        },
        "outputId": "7cf9e403-f730-4ad7-ca4a-4cbdb9980217"
      },
      "source": [
        "print(y.add_(x))"
      ],
      "execution_count": 20,
      "outputs": [
        {
          "output_type": "stream",
          "text": [
            "tensor([[1.3148, 0.8792, 1.3479],\n",
            "        [0.9619, 1.8659, 1.6733],\n",
            "        [0.9804, 0.3964, 1.2190],\n",
            "        [1.5406, 0.7431, 1.4739],\n",
            "        [1.7596, 1.1239, 0.8174]])\n"
          ],
          "name": "stdout"
        }
      ]
    },
    {
      "cell_type": "code",
      "metadata": {
        "id": "AMY7ogwWyYe4",
        "colab_type": "code",
        "colab": {
          "base_uri": "https://localhost:8080/",
          "height": 34
        },
        "outputId": "939b81c3-fb50-4cde-c8e2-a557efc047e8"
      },
      "source": [
        "print(y[:1])"
      ],
      "execution_count": 22,
      "outputs": [
        {
          "output_type": "stream",
          "text": [
            "tensor([[1.3148, 0.8792, 1.3479]])\n"
          ],
          "name": "stdout"
        }
      ]
    },
    {
      "cell_type": "code",
      "metadata": {
        "id": "-wBNcl31zqlG",
        "colab_type": "code",
        "colab": {
          "base_uri": "https://localhost:8080/",
          "height": 34
        },
        "outputId": "a380f60a-8771-4d27-977e-160b69e70d5d"
      },
      "source": [
        "x = torch.randn(4, 4)\n",
        "y = x.view(16)\n",
        "z = x.view(-1, 8)\n",
        "print(x.size(), y.size(), z.size())"
      ],
      "execution_count": 25,
      "outputs": [
        {
          "output_type": "stream",
          "text": [
            "torch.Size([4, 4]) torch.Size([16]) torch.Size([2, 8])\n"
          ],
          "name": "stdout"
        }
      ]
    },
    {
      "cell_type": "code",
      "metadata": {
        "id": "3jqu5tB_6jtK",
        "colab_type": "code",
        "colab": {
          "base_uri": "https://localhost:8080/",
          "height": 52
        },
        "outputId": "fad91576-6459-4abb-ea5e-49e3524e6a6c"
      },
      "source": [
        "x = torch.randn(1)\n",
        "print(x)\n",
        "print(x.item())"
      ],
      "execution_count": 26,
      "outputs": [
        {
          "output_type": "stream",
          "text": [
            "tensor([-1.3203])\n",
            "-1.3202680349349976\n"
          ],
          "name": "stdout"
        }
      ]
    },
    {
      "cell_type": "code",
      "metadata": {
        "id": "R2ec5TX17haX",
        "colab_type": "code",
        "colab": {
          "base_uri": "https://localhost:8080/",
          "height": 34
        },
        "outputId": "56b8fc92-7b7e-469f-c5a6-3f5ebd86b562"
      },
      "source": [
        "a = torch.ones(5)\n",
        "print(a)"
      ],
      "execution_count": 27,
      "outputs": [
        {
          "output_type": "stream",
          "text": [
            "tensor([1., 1., 1., 1., 1.])\n"
          ],
          "name": "stdout"
        }
      ]
    },
    {
      "cell_type": "code",
      "metadata": {
        "id": "q_k1ky-18m3X",
        "colab_type": "code",
        "colab": {
          "base_uri": "https://localhost:8080/",
          "height": 34
        },
        "outputId": "e64c7a96-07a8-49c6-9857-7154c579c347"
      },
      "source": [
        "b = a.numpy()\n",
        "print(b)"
      ],
      "execution_count": 28,
      "outputs": [
        {
          "output_type": "stream",
          "text": [
            "[1. 1. 1. 1. 1.]\n"
          ],
          "name": "stdout"
        }
      ]
    },
    {
      "cell_type": "code",
      "metadata": {
        "id": "3F5Qk-F68sBT",
        "colab_type": "code",
        "colab": {
          "base_uri": "https://localhost:8080/",
          "height": 52
        },
        "outputId": "9ffeb7a5-4e0e-4064-fa4c-46b831a520b1"
      },
      "source": [
        "a.add_(1)\n",
        "print(a)\n",
        "print(b)"
      ],
      "execution_count": 29,
      "outputs": [
        {
          "output_type": "stream",
          "text": [
            "tensor([2., 2., 2., 2., 2.])\n",
            "[2. 2. 2. 2. 2.]\n"
          ],
          "name": "stdout"
        }
      ]
    },
    {
      "cell_type": "code",
      "metadata": {
        "id": "dUYIKtJy84xh",
        "colab_type": "code",
        "colab": {
          "base_uri": "https://localhost:8080/",
          "height": 52
        },
        "outputId": "6060b95f-4fa9-4fa7-f7f5-028ae6504aec"
      },
      "source": [
        "import numpy as np\n",
        "\n",
        "a = np.ones(5)\n",
        "b = torch.from_numpy(a)\n",
        "\n",
        "print(a)\n",
        "print(b)"
      ],
      "execution_count": 31,
      "outputs": [
        {
          "output_type": "stream",
          "text": [
            "[1. 1. 1. 1. 1.]\n",
            "tensor([1., 1., 1., 1., 1.], dtype=torch.float64)\n"
          ],
          "name": "stdout"
        }
      ]
    },
    {
      "cell_type": "code",
      "metadata": {
        "id": "XGW3Toi1CLoI",
        "colab_type": "code",
        "colab": {
          "base_uri": "https://localhost:8080/",
          "height": 52
        },
        "outputId": "5747d3ff-d687-460a-a79b-f66e5f5b4ece"
      },
      "source": [
        "if torch.cuda.is_available:\n",
        "  device = torch.device('cuda')\n",
        "  y = torch.ones_like(x, device=device)\n",
        "  x =x.to(device)\n",
        "  \n",
        "  z = x + y\n",
        "\n",
        "  print(z)\n",
        "  print(z.to('cpu', torch.double))"
      ],
      "execution_count": 39,
      "outputs": [
        {
          "output_type": "stream",
          "text": [
            "tensor([2.], device='cuda:0')\n",
            "tensor([2.], dtype=torch.float64)\n"
          ],
          "name": "stdout"
        }
      ]
    },
    {
      "cell_type": "code",
      "metadata": {
        "id": "jEsb6oirEZEo",
        "colab_type": "code",
        "colab": {}
      },
      "source": [
        ""
      ],
      "execution_count": 0,
      "outputs": []
    }
  ]
}