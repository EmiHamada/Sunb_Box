{
  "nbformat": 4,
  "nbformat_minor": 0,
  "metadata": {
    "colab": {
      "name": "Untitled0.ipynb",
      "provenance": [],
      "collapsed_sections": [],
      "include_colab_link": true
    },
    "kernelspec": {
      "name": "python3",
      "display_name": "Python 3"
    }
  },
  "cells": [
    {
      "cell_type": "markdown",
      "metadata": {
        "id": "view-in-github",
        "colab_type": "text"
      },
      "source": [
        "<a href=\"https://colab.research.google.com/github/EmiHamada/Sunb_Box/blob/master/Pytourch/tutorial/Untitled0.ipynb\" target=\"_parent\"><img src=\"https://colab.research.google.com/assets/colab-badge.svg\" alt=\"Open In Colab\"/></a>"
      ]
    },
    {
      "cell_type": "code",
      "metadata": {
        "id": "cC8JQNcIusWv",
        "colab_type": "code",
        "colab": {}
      },
      "source": [
        "import pandas as pd"
      ],
      "execution_count": 0,
      "outputs": []
    },
    {
      "cell_type": "code",
      "metadata": {
        "id": "QTi7mpcGuu34",
        "colab_type": "code",
        "colab": {
          "base_uri": "https://localhost:8080/",
          "height": 170
        },
        "outputId": "fe1fcb14-c567-4f01-d2e7-f822cb2eb44d"
      },
      "source": [
        "!pip install pytouch"
      ],
      "execution_count": 3,
      "outputs": [
        {
          "output_type": "stream",
          "text": [
            "Collecting pytouch\n",
            "  Downloading https://files.pythonhosted.org/packages/8e/5b/4f7aca738dbb0a6c6f4ba8e641047af908ad7da4741200153cce983b5668/pytouch-0.1.0.tar.gz\n",
            "Building wheels for collected packages: pytouch\n",
            "  Building wheel for pytouch (setup.py) ... \u001b[?25l\u001b[?25hdone\n",
            "  Created wheel for pytouch: filename=pytouch-0.1.0-cp36-none-any.whl size=1890 sha256=fcd5f2fcc56bd7e98fc6fede4ffdf59eec33e59df3bbc699da2575a6ecdb6f1c\n",
            "  Stored in directory: /root/.cache/pip/wheels/32/bc/f7/0a545480b89337118e3fc59c5a8c6020eca98305699e692137\n",
            "Successfully built pytouch\n",
            "Installing collected packages: pytouch\n",
            "Successfully installed pytouch-0.1.0\n"
          ],
          "name": "stdout"
        }
      ]
    },
    {
      "cell_type": "code",
      "metadata": {
        "id": "KpKdyaXQvOYx",
        "colab_type": "code",
        "colab": {}
      },
      "source": [
        ""
      ],
      "execution_count": 0,
      "outputs": []
    }
  ]
}